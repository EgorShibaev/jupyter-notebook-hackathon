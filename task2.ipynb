{
 "cells": [
  {
   "cell_type": "code",
   "execution_count": 1,
   "metadata": {},
   "outputs": [
    {
     "name": "stdout",
     "output_type": "stream",
     "text": [
      "Request successful!\n"
     ]
    }
   ],
   "source": [
    "# # Do not forget to check if your notebook log collection plugin is working\n",
    "from mining_extension import check_logging\n",
    "check_logging(\"http://3.249.245.244:9999\")"
   ]
  },
  {
   "cell_type": "code",
   "execution_count": null,
   "metadata": {},
   "outputs": [],
   "source": [
    "!pip install pandas"
   ]
  },
  {
   "cell_type": "code",
   "execution_count": 2,
   "metadata": {},
   "outputs": [],
   "source": [
    "import numpy as np"
   ]
  },
  {
   "cell_type": "code",
   "execution_count": 3,
   "metadata": {
    "ExecuteTime": {
     "end_time": "2023-04-26T16:12:14.666731Z",
     "start_time": "2023-04-26T16:12:14.634105Z"
    }
   },
   "outputs": [
    {
     "name": "stdout",
     "output_type": "stream",
     "text": [
      "(5833, 32)\n",
      "(1927, 32)\n",
      "(1918, 21)\n"
     ]
    }
   ],
   "source": [
    "import pandas as pd\n",
    "features_path = 'data/task2/'\n",
    "test_features = pd.read_pickle(features_path+'test_features.pkl')\n",
    "train_features = pd.read_pickle(features_path+'train_features.pkl')\n",
    "validation_features = pd.read_pickle(features_path+'validation_features.pkl')\n",
    "\n",
    "train_features.index = range(train_features.shape[0])\n",
    "validation_features.index = range(validation_features.shape[0])\n",
    "test_features.index = range(test_features.shape[0])\n",
    "\n",
    "train_features.fillna(0,inplace=True)\n",
    "test_features.fillna(0,inplace=True)\n",
    "validation_features.fillna(0,inplace=True)\n",
    "\n",
    "print(train_features.shape)\n",
    "print(validation_features.shape)\n",
    "print(test_features.shape)"
   ]
  },
  {
   "cell_type": "code",
   "execution_count": 4,
   "metadata": {
    "ExecuteTime": {
     "end_time": "2023-04-26T16:12:35.388786Z",
     "start_time": "2023-04-26T16:12:35.376467Z"
    }
   },
   "outputs": [
    {
     "data": {
      "text/html": [
       "<div>\n",
       "<style scoped>\n",
       "    .dataframe tbody tr th:only-of-type {\n",
       "        vertical-align: middle;\n",
       "    }\n",
       "\n",
       "    .dataframe tbody tr th {\n",
       "        vertical-align: top;\n",
       "    }\n",
       "\n",
       "    .dataframe thead th {\n",
       "        text-align: right;\n",
       "    }\n",
       "</style>\n",
       "<table border=\"1\" class=\"dataframe\">\n",
       "  <thead>\n",
       "    <tr style=\"text-align: right;\">\n",
       "      <th></th>\n",
       "      <th>filename</th>\n",
       "      <th>cell_type</th>\n",
       "      <th>cell_number</th>\n",
       "      <th>execution_count</th>\n",
       "      <th>linesofcomment</th>\n",
       "      <th>linesofcode</th>\n",
       "      <th>variable_count</th>\n",
       "      <th>function_count</th>\n",
       "      <th>text/plain</th>\n",
       "      <th>image/png</th>\n",
       "      <th>...</th>\n",
       "      <th>helper_functions</th>\n",
       "      <th>load_data</th>\n",
       "      <th>data_exploration</th>\n",
       "      <th>data_preprocessing</th>\n",
       "      <th>evaluation</th>\n",
       "      <th>modelling</th>\n",
       "      <th>prediction</th>\n",
       "      <th>result_visualization</th>\n",
       "      <th>save_results</th>\n",
       "      <th>comment_only</th>\n",
       "    </tr>\n",
       "  </thead>\n",
       "  <tbody>\n",
       "    <tr>\n",
       "      <th>0</th>\n",
       "      <td>nb_54880.ipynb</td>\n",
       "      <td>code</td>\n",
       "      <td>0</td>\n",
       "      <td>1</td>\n",
       "      <td>0.0</td>\n",
       "      <td>2.0</td>\n",
       "      <td>0.0</td>\n",
       "      <td>0.0</td>\n",
       "      <td>0</td>\n",
       "      <td>0</td>\n",
       "      <td>...</td>\n",
       "      <td>1</td>\n",
       "      <td>0</td>\n",
       "      <td>0</td>\n",
       "      <td>0</td>\n",
       "      <td>0</td>\n",
       "      <td>0</td>\n",
       "      <td>0</td>\n",
       "      <td>0</td>\n",
       "      <td>0</td>\n",
       "      <td>0</td>\n",
       "    </tr>\n",
       "    <tr>\n",
       "      <th>1</th>\n",
       "      <td>nb_54880.ipynb</td>\n",
       "      <td>code</td>\n",
       "      <td>1</td>\n",
       "      <td>2</td>\n",
       "      <td>1.0</td>\n",
       "      <td>4.0</td>\n",
       "      <td>4.0</td>\n",
       "      <td>0.0</td>\n",
       "      <td>0</td>\n",
       "      <td>0</td>\n",
       "      <td>...</td>\n",
       "      <td>0</td>\n",
       "      <td>1</td>\n",
       "      <td>0</td>\n",
       "      <td>0</td>\n",
       "      <td>0</td>\n",
       "      <td>0</td>\n",
       "      <td>0</td>\n",
       "      <td>0</td>\n",
       "      <td>0</td>\n",
       "      <td>0</td>\n",
       "    </tr>\n",
       "    <tr>\n",
       "      <th>2</th>\n",
       "      <td>nb_54880.ipynb</td>\n",
       "      <td>code</td>\n",
       "      <td>2</td>\n",
       "      <td>3</td>\n",
       "      <td>0.0</td>\n",
       "      <td>1.0</td>\n",
       "      <td>0.0</td>\n",
       "      <td>0.0</td>\n",
       "      <td>1</td>\n",
       "      <td>0</td>\n",
       "      <td>...</td>\n",
       "      <td>0</td>\n",
       "      <td>0</td>\n",
       "      <td>1</td>\n",
       "      <td>0</td>\n",
       "      <td>0</td>\n",
       "      <td>0</td>\n",
       "      <td>0</td>\n",
       "      <td>0</td>\n",
       "      <td>0</td>\n",
       "      <td>0</td>\n",
       "    </tr>\n",
       "    <tr>\n",
       "      <th>3</th>\n",
       "      <td>nb_54880.ipynb</td>\n",
       "      <td>code</td>\n",
       "      <td>3</td>\n",
       "      <td>4</td>\n",
       "      <td>0.0</td>\n",
       "      <td>1.0</td>\n",
       "      <td>0.0</td>\n",
       "      <td>0.0</td>\n",
       "      <td>1</td>\n",
       "      <td>0</td>\n",
       "      <td>...</td>\n",
       "      <td>0</td>\n",
       "      <td>0</td>\n",
       "      <td>1</td>\n",
       "      <td>0</td>\n",
       "      <td>0</td>\n",
       "      <td>0</td>\n",
       "      <td>0</td>\n",
       "      <td>0</td>\n",
       "      <td>0</td>\n",
       "      <td>0</td>\n",
       "    </tr>\n",
       "    <tr>\n",
       "      <th>4</th>\n",
       "      <td>nb_54880.ipynb</td>\n",
       "      <td>code</td>\n",
       "      <td>4</td>\n",
       "      <td>5</td>\n",
       "      <td>0.0</td>\n",
       "      <td>1.0</td>\n",
       "      <td>1.0</td>\n",
       "      <td>0.0</td>\n",
       "      <td>0</td>\n",
       "      <td>0</td>\n",
       "      <td>...</td>\n",
       "      <td>0</td>\n",
       "      <td>0</td>\n",
       "      <td>0</td>\n",
       "      <td>1</td>\n",
       "      <td>0</td>\n",
       "      <td>0</td>\n",
       "      <td>0</td>\n",
       "      <td>0</td>\n",
       "      <td>0</td>\n",
       "      <td>0</td>\n",
       "    </tr>\n",
       "    <tr>\n",
       "      <th>...</th>\n",
       "      <td>...</td>\n",
       "      <td>...</td>\n",
       "      <td>...</td>\n",
       "      <td>...</td>\n",
       "      <td>...</td>\n",
       "      <td>...</td>\n",
       "      <td>...</td>\n",
       "      <td>...</td>\n",
       "      <td>...</td>\n",
       "      <td>...</td>\n",
       "      <td>...</td>\n",
       "      <td>...</td>\n",
       "      <td>...</td>\n",
       "      <td>...</td>\n",
       "      <td>...</td>\n",
       "      <td>...</td>\n",
       "      <td>...</td>\n",
       "      <td>...</td>\n",
       "      <td>...</td>\n",
       "      <td>...</td>\n",
       "      <td>...</td>\n",
       "    </tr>\n",
       "    <tr>\n",
       "      <th>5828</th>\n",
       "      <td>nb_95821.ipynb</td>\n",
       "      <td>code</td>\n",
       "      <td>27</td>\n",
       "      <td>-1</td>\n",
       "      <td>0.0</td>\n",
       "      <td>2.0</td>\n",
       "      <td>1.0</td>\n",
       "      <td>0.0</td>\n",
       "      <td>0</td>\n",
       "      <td>0</td>\n",
       "      <td>...</td>\n",
       "      <td>0</td>\n",
       "      <td>0</td>\n",
       "      <td>0</td>\n",
       "      <td>0</td>\n",
       "      <td>1</td>\n",
       "      <td>0</td>\n",
       "      <td>0</td>\n",
       "      <td>0</td>\n",
       "      <td>0</td>\n",
       "      <td>0</td>\n",
       "    </tr>\n",
       "    <tr>\n",
       "      <th>5829</th>\n",
       "      <td>nb_95821.ipynb</td>\n",
       "      <td>code</td>\n",
       "      <td>29</td>\n",
       "      <td>-1</td>\n",
       "      <td>0.0</td>\n",
       "      <td>2.0</td>\n",
       "      <td>1.0</td>\n",
       "      <td>0.0</td>\n",
       "      <td>0</td>\n",
       "      <td>0</td>\n",
       "      <td>...</td>\n",
       "      <td>0</td>\n",
       "      <td>0</td>\n",
       "      <td>0</td>\n",
       "      <td>0</td>\n",
       "      <td>0</td>\n",
       "      <td>1</td>\n",
       "      <td>0</td>\n",
       "      <td>0</td>\n",
       "      <td>0</td>\n",
       "      <td>0</td>\n",
       "    </tr>\n",
       "    <tr>\n",
       "      <th>5830</th>\n",
       "      <td>nb_95821.ipynb</td>\n",
       "      <td>code</td>\n",
       "      <td>31</td>\n",
       "      <td>-1</td>\n",
       "      <td>0.0</td>\n",
       "      <td>3.0</td>\n",
       "      <td>2.0</td>\n",
       "      <td>0.0</td>\n",
       "      <td>0</td>\n",
       "      <td>0</td>\n",
       "      <td>...</td>\n",
       "      <td>0</td>\n",
       "      <td>0</td>\n",
       "      <td>1</td>\n",
       "      <td>1</td>\n",
       "      <td>0</td>\n",
       "      <td>0</td>\n",
       "      <td>0</td>\n",
       "      <td>0</td>\n",
       "      <td>0</td>\n",
       "      <td>0</td>\n",
       "    </tr>\n",
       "    <tr>\n",
       "      <th>5831</th>\n",
       "      <td>nb_95821.ipynb</td>\n",
       "      <td>code</td>\n",
       "      <td>33</td>\n",
       "      <td>-1</td>\n",
       "      <td>5.0</td>\n",
       "      <td>17.0</td>\n",
       "      <td>14.0</td>\n",
       "      <td>0.0</td>\n",
       "      <td>0</td>\n",
       "      <td>0</td>\n",
       "      <td>...</td>\n",
       "      <td>0</td>\n",
       "      <td>0</td>\n",
       "      <td>0</td>\n",
       "      <td>0</td>\n",
       "      <td>1</td>\n",
       "      <td>1</td>\n",
       "      <td>1</td>\n",
       "      <td>0</td>\n",
       "      <td>0</td>\n",
       "      <td>0</td>\n",
       "    </tr>\n",
       "    <tr>\n",
       "      <th>5832</th>\n",
       "      <td>nb_95821.ipynb</td>\n",
       "      <td>code</td>\n",
       "      <td>35</td>\n",
       "      <td>-1</td>\n",
       "      <td>0.0</td>\n",
       "      <td>2.0</td>\n",
       "      <td>1.0</td>\n",
       "      <td>0.0</td>\n",
       "      <td>0</td>\n",
       "      <td>0</td>\n",
       "      <td>...</td>\n",
       "      <td>0</td>\n",
       "      <td>0</td>\n",
       "      <td>0</td>\n",
       "      <td>0</td>\n",
       "      <td>1</td>\n",
       "      <td>0</td>\n",
       "      <td>0</td>\n",
       "      <td>0</td>\n",
       "      <td>0</td>\n",
       "      <td>0</td>\n",
       "    </tr>\n",
       "  </tbody>\n",
       "</table>\n",
       "<p>5833 rows × 32 columns</p>\n",
       "</div>"
      ],
      "text/plain": [
       "            filename cell_type  cell_number  execution_count  linesofcomment   \n",
       "0     nb_54880.ipynb      code            0                1             0.0  \\\n",
       "1     nb_54880.ipynb      code            1                2             1.0   \n",
       "2     nb_54880.ipynb      code            2                3             0.0   \n",
       "3     nb_54880.ipynb      code            3                4             0.0   \n",
       "4     nb_54880.ipynb      code            4                5             0.0   \n",
       "...              ...       ...          ...              ...             ...   \n",
       "5828  nb_95821.ipynb      code           27               -1             0.0   \n",
       "5829  nb_95821.ipynb      code           29               -1             0.0   \n",
       "5830  nb_95821.ipynb      code           31               -1             0.0   \n",
       "5831  nb_95821.ipynb      code           33               -1             5.0   \n",
       "5832  nb_95821.ipynb      code           35               -1             0.0   \n",
       "\n",
       "      linesofcode  variable_count  function_count  text/plain  image/png  ...   \n",
       "0             2.0             0.0             0.0           0          0  ...  \\\n",
       "1             4.0             4.0             0.0           0          0  ...   \n",
       "2             1.0             0.0             0.0           1          0  ...   \n",
       "3             1.0             0.0             0.0           1          0  ...   \n",
       "4             1.0             1.0             0.0           0          0  ...   \n",
       "...           ...             ...             ...         ...        ...  ...   \n",
       "5828          2.0             1.0             0.0           0          0  ...   \n",
       "5829          2.0             1.0             0.0           0          0  ...   \n",
       "5830          3.0             2.0             0.0           0          0  ...   \n",
       "5831         17.0            14.0             0.0           0          0  ...   \n",
       "5832          2.0             1.0             0.0           0          0  ...   \n",
       "\n",
       "      helper_functions  load_data  data_exploration  data_preprocessing   \n",
       "0                    1          0                 0                   0  \\\n",
       "1                    0          1                 0                   0   \n",
       "2                    0          0                 1                   0   \n",
       "3                    0          0                 1                   0   \n",
       "4                    0          0                 0                   1   \n",
       "...                ...        ...               ...                 ...   \n",
       "5828                 0          0                 0                   0   \n",
       "5829                 0          0                 0                   0   \n",
       "5830                 0          0                 1                   1   \n",
       "5831                 0          0                 0                   0   \n",
       "5832                 0          0                 0                   0   \n",
       "\n",
       "      evaluation modelling prediction result_visualization save_results   \n",
       "0              0         0          0                    0            0  \\\n",
       "1              0         0          0                    0            0   \n",
       "2              0         0          0                    0            0   \n",
       "3              0         0          0                    0            0   \n",
       "4              0         0          0                    0            0   \n",
       "...          ...       ...        ...                  ...          ...   \n",
       "5828           1         0          0                    0            0   \n",
       "5829           0         1          0                    0            0   \n",
       "5830           0         0          0                    0            0   \n",
       "5831           1         1          1                    0            0   \n",
       "5832           1         0          0                    0            0   \n",
       "\n",
       "     comment_only  \n",
       "0               0  \n",
       "1               0  \n",
       "2               0  \n",
       "3               0  \n",
       "4               0  \n",
       "...           ...  \n",
       "5828            0  \n",
       "5829            0  \n",
       "5830            0  \n",
       "5831            0  \n",
       "5832            0  \n",
       "\n",
       "[5833 rows x 32 columns]"
      ]
     },
     "execution_count": 4,
     "metadata": {},
     "output_type": "execute_result"
    }
   ],
   "source": [
    "train_features"
   ]
  },
  {
   "cell_type": "code",
   "execution_count": 5,
   "metadata": {
    "ExecuteTime": {
     "end_time": "2023-04-26T16:13:27.981328Z",
     "start_time": "2023-04-26T16:13:27.979105Z"
    }
   },
   "outputs": [
    {
     "data": {
      "text/plain": [
       "Index(['filename', 'cell_type', 'cell_number', 'execution_count',\n",
       "       'linesofcomment', 'linesofcode', 'variable_count', 'function_count',\n",
       "       'text/plain', 'image/png', 'text/html', 'execute_result',\n",
       "       'display_data', 'stream', 'error', 'text', 'comment',\n",
       "       'code_line_before', 'code_line_after', 'markdown_heading',\n",
       "       'packages_info'],\n",
       "      dtype='object')"
      ]
     },
     "execution_count": 5,
     "metadata": {},
     "output_type": "execute_result"
    }
   ],
   "source": [
    "test_features.columns "
   ]
  },
  {
   "cell_type": "code",
   "execution_count": 6,
   "metadata": {},
   "outputs": [
    {
     "data": {
      "text/plain": [
       "Index(['cell_number', 'execution_count', 'linesofcomment', 'linesofcode',\n",
       "       'variable_count', 'function_count', 'text/plain', 'image/png',\n",
       "       'text/html', 'execute_result', 'display_data', 'stream', 'error'],\n",
       "      dtype='object')"
      ]
     },
     "execution_count": 6,
     "metadata": {},
     "output_type": "execute_result"
    }
   ],
   "source": [
    "numerics = ['int16', 'int32', 'int64', 'float16', 'float32', 'float64']\n",
    "\n",
    "numerical_cols = test_features.select_dtypes(include=numerics).columns\n",
    "numerical_cols"
   ]
  },
  {
   "cell_type": "code",
   "execution_count": 7,
   "metadata": {},
   "outputs": [],
   "source": [
    "train_num_features = train_features[numerical_cols]\n",
    "val_num_features = validation_features[numerical_cols] \n",
    "test_num_features = test_features[numerical_cols]"
   ]
  },
  {
   "cell_type": "code",
   "execution_count": 8,
   "metadata": {},
   "outputs": [],
   "source": [
    "def get_mark_down(df):\n",
    "    mark_down = df['markdown_heading'].to_numpy()\n",
    "    arr = []\n",
    "\n",
    "    for a in mark_down:\n",
    "        if a == 0:\n",
    "            arr.append('')\n",
    "        else:\n",
    "            arr.append(a[0])\n",
    "\n",
    "    return arr       "
   ]
  },
  {
   "cell_type": "code",
   "execution_count": 9,
   "metadata": {},
   "outputs": [],
   "source": [
    "mark_down_train = get_mark_down(train_features)\n",
    "mark_down_val = get_mark_down(validation_features)\n",
    "mark_down_test = get_mark_down(test_features)"
   ]
  },
  {
   "cell_type": "code",
   "execution_count": 10,
   "metadata": {},
   "outputs": [
    {
     "data": {
      "text/plain": [
       "((5833, 3145), (1927, 3145), (1918, 3145))"
      ]
     },
     "execution_count": 10,
     "metadata": {},
     "output_type": "execute_result"
    }
   ],
   "source": [
    "from sklearn.feature_extraction.text import TfidfVectorizer\n",
    "\n",
    "vectorizer = TfidfVectorizer()\n",
    "vectorizer.fit(mark_down_train)\n",
    "X_md_train = vectorizer.transform(mark_down_train)\n",
    "X_md_val = vectorizer.transform(mark_down_val)\n",
    "X_md_test = vectorizer.transform(mark_down_test)\n",
    "X_md_train.shape, X_md_val.shape, X_md_test.shape"
   ]
  },
  {
   "cell_type": "code",
   "execution_count": 11,
   "metadata": {},
   "outputs": [],
   "source": [
    "from scipy.sparse import hstack"
   ]
  },
  {
   "cell_type": "code",
   "execution_count": 12,
   "metadata": {},
   "outputs": [],
   "source": [
    "X_train = hstack((train_num_features.to_numpy(), X_md_train))\n",
    "X_val = hstack((val_num_features.to_numpy(), X_md_val))\n",
    "X_test = hstack((test_num_features.to_numpy(), X_md_test))"
   ]
  },
  {
   "cell_type": "code",
   "execution_count": 13,
   "metadata": {},
   "outputs": [
    {
     "name": "stdout",
     "output_type": "stream",
     "text": [
      "Requirement already satisfied: scikit-learn in c:\\users\\miste\\hackaton\\jupyter-notebook-hackathon\\lib\\site-packages (1.2.2)\n",
      "Requirement already satisfied: numpy>=1.17.3 in c:\\users\\miste\\hackaton\\jupyter-notebook-hackathon\\lib\\site-packages (from scikit-learn) (1.24.3)\n",
      "Requirement already satisfied: scipy>=1.3.2 in c:\\users\\miste\\hackaton\\jupyter-notebook-hackathon\\lib\\site-packages (from scikit-learn) (1.10.1)\n",
      "Requirement already satisfied: joblib>=1.1.1 in c:\\users\\miste\\hackaton\\jupyter-notebook-hackathon\\lib\\site-packages (from scikit-learn) (1.2.0)\n",
      "Requirement already satisfied: threadpoolctl>=2.0.0 in c:\\users\\miste\\hackaton\\jupyter-notebook-hackathon\\lib\\site-packages (from scikit-learn) (3.1.0)\n"
     ]
    }
   ],
   "source": [
    "!pip install scikit-learn"
   ]
  },
  {
   "cell_type": "code",
   "execution_count": 14,
   "metadata": {},
   "outputs": [],
   "source": [
    "from sklearn import preprocessing\n",
    "\n",
    "le = preprocessing.LabelEncoder()\n",
    "le.fit(train_features['primary_label'])\n",
    "y_train = le.transform(train_features['primary_label'])\n",
    "y_val = le.transform(validation_features['primary_label'])"
   ]
  },
  {
   "cell_type": "code",
   "execution_count": 15,
   "metadata": {},
   "outputs": [
    {
     "name": "stdout",
     "output_type": "stream",
     "text": [
      "40  train 0.8289543097328497     val 0.6272274053269697\n",
      "45  train 0.8492641798393837     val 0.63974764177321\n",
      "50  train 0.8693707970393552     val 0.6268457829190593\n",
      "55  train 0.8849093168541199     val 0.6368663493137434\n",
      "60  train 0.9000485698822421     val 0.6328690270445206\n",
      "65  train 0.9165271664929046     val 0.6356656043440099\n",
      "70  train 0.9350751682630112     val 0.6221354250863554\n",
      "Best score 0.63974764177321 with max_depth 45\n"
     ]
    }
   ],
   "source": [
    "from sklearn.ensemble import RandomForestClassifier\n",
    "from sklearn.pipeline import make_pipeline\n",
    "from sklearn.linear_model import LogisticRegression\n",
    "from sklearn.preprocessing import StandardScaler\n",
    "from sklearn.metrics import accuracy_score\n",
    "from sklearn.preprocessing import PolynomialFeatures\n",
    "from sklearn.metrics import f1_score\n",
    "\n",
    "best_score = 0\n",
    "best_depth = 0\n",
    "\n",
    "for i in range(40, 71, 5):\n",
    "\n",
    "    clf = RandomForestClassifier(max_depth=i, n_estimators=100)\n",
    "\n",
    "    clf.fit(X_train, y_train)\n",
    "\n",
    "    pred = clf.predict(X_train)\n",
    "    print(i, \" train\", f1_score(pred, y_train, average='weighted'), end = '     ')\n",
    "\n",
    "    pred = clf.predict(X_val)\n",
    "    score = f1_score(pred, y_val, average='weighted')\n",
    "    print(\"val\", score)\n",
    "    \n",
    "    if score > best_score:\n",
    "        best_score = score\n",
    "        best_depth = i\n",
    "\n",
    "print(\"Best score\", best_score, \"with max_depth\", best_depth)"
   ]
  },
  {
   "cell_type": "code",
   "execution_count": 21,
   "metadata": {},
   "outputs": [
    {
     "name": "stdout",
     "output_type": "stream",
     "text": [
      "70  train 0.8432318148764175     "
     ]
    }
   ],
   "source": [
    "clf = RandomForestClassifier(max_depth=best_depth, n_estimators=500)\n",
    "\n",
    "X_train_val = np.concatenate((X_train.toarray(), X_val.toarray()), axis=0)\n",
    "y_train_val = np.concatenate((y_train, y_val), axis=0)\n",
    "\n",
    "clf.fit(X_train_val, y_train_val)\n",
    "\n",
    "pred = clf.predict(X_train_val)\n",
    "print(i, \" train\", f1_score(pred, y_train_val, average='weighted'), end = '     ')\n",
    "\n",
    "pred = clf.predict(X_test)"
   ]
  },
  {
   "cell_type": "code",
   "execution_count": 22,
   "metadata": {},
   "outputs": [
    {
     "data": {
      "text/plain": [
       "(1918,)"
      ]
     },
     "execution_count": 22,
     "metadata": {},
     "output_type": "execute_result"
    }
   ],
   "source": [
    "pred.shape"
   ]
  },
  {
   "cell_type": "code",
   "execution_count": 23,
   "metadata": {},
   "outputs": [
    {
     "data": {
      "text/plain": [
       "array(['helper_functions', 'data_preprocessing', 'data_preprocessing',\n",
       "       ..., 'helper_functions', 'data_preprocessing', 'helper_functions'],\n",
       "      dtype=object)"
      ]
     },
     "execution_count": 23,
     "metadata": {},
     "output_type": "execute_result"
    }
   ],
   "source": [
    "vals = le.inverse_transform(pred)\n",
    "vals"
   ]
  },
  {
   "cell_type": "code",
   "execution_count": 26,
   "metadata": {},
   "outputs": [
    {
     "data": {
      "text/html": [
       "<div>\n",
       "<style scoped>\n",
       "    .dataframe tbody tr th:only-of-type {\n",
       "        vertical-align: middle;\n",
       "    }\n",
       "\n",
       "    .dataframe tbody tr th {\n",
       "        vertical-align: top;\n",
       "    }\n",
       "\n",
       "    .dataframe thead th {\n",
       "        text-align: right;\n",
       "    }\n",
       "</style>\n",
       "<table border=\"1\" class=\"dataframe\">\n",
       "  <thead>\n",
       "    <tr style=\"text-align: right;\">\n",
       "      <th></th>\n",
       "      <th>primary_label</th>\n",
       "    </tr>\n",
       "  </thead>\n",
       "  <tbody>\n",
       "    <tr>\n",
       "      <th>0</th>\n",
       "      <td>helper_functions</td>\n",
       "    </tr>\n",
       "    <tr>\n",
       "      <th>1</th>\n",
       "      <td>data_preprocessing</td>\n",
       "    </tr>\n",
       "    <tr>\n",
       "      <th>2</th>\n",
       "      <td>data_preprocessing</td>\n",
       "    </tr>\n",
       "    <tr>\n",
       "      <th>3</th>\n",
       "      <td>data_preprocessing</td>\n",
       "    </tr>\n",
       "    <tr>\n",
       "      <th>4</th>\n",
       "      <td>data_exploration</td>\n",
       "    </tr>\n",
       "  </tbody>\n",
       "</table>\n",
       "</div>"
      ],
      "text/plain": [
       "        primary_label\n",
       "0    helper_functions\n",
       "1  data_preprocessing\n",
       "2  data_preprocessing\n",
       "3  data_preprocessing\n",
       "4    data_exploration"
      ]
     },
     "execution_count": 26,
     "metadata": {},
     "output_type": "execute_result"
    }
   ],
   "source": [
    "df = pd.DataFrame({\"primary_label\" : vals })\n",
    "df.head()"
   ]
  },
  {
   "cell_type": "code",
   "execution_count": 28,
   "metadata": {},
   "outputs": [],
   "source": [
    "df.to_csv('submission.csv', index=True)"
   ]
  }
 ],
 "metadata": {
  "kernelspec": {
   "display_name": "Python 3 (ipykernel)",
   "language": "python",
   "name": "python3"
  },
  "language_info": {
   "codemirror_mode": {
    "name": "ipython",
    "version": 3
   },
   "file_extension": ".py",
   "mimetype": "text/x-python",
   "name": "python",
   "nbconvert_exporter": "python",
   "pygments_lexer": "ipython3",
   "version": "3.10.11"
  }
 },
 "nbformat": 4,
 "nbformat_minor": 1
}
